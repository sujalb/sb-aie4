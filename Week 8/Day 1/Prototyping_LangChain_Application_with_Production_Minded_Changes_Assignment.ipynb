{
  "cells": [
    {
      "cell_type": "markdown",
      "metadata": {
        "id": "8ZsP-j7w3zcL"
      },
      "source": [
        "# Prototyping LangChain Application with Production Minded Changes\n",
        "\n",
        "For our first breakout room we'll be exploring how to set-up a LangChain LCEL chain in a way that takes advantage of all of the amazing out of the box production ready features it offers.\n",
        "\n",
        "We'll also explore `Caching` and what makes it an invaluable tool when transitioning to production environments.\n"
      ]
    },
    {
      "cell_type": "markdown",
      "metadata": {
        "id": "PpeN9ND0HKa0"
      },
      "source": [
        "## Task 1: Dependencies and Set-Up\n",
        "\n",
        "Let's get everything we need - we're going to use very specific versioning today to try to mitigate potential env. issues!\n",
        "\n",
        "> NOTE: Dependency issues are a large portion of what you're going to be tackling as you integrate new technology into your work - please keep in mind that one of the things you should be passively learning throughout this course is ways to mitigate dependency issues."
      ]
    },
    {
      "cell_type": "code",
      "execution_count": null,
      "metadata": {
        "id": "0P4IJUQF27jW"
      },
      "outputs": [],
      "source": [
        "!pip install -qU langchain_openai==0.2.0 langchain_community==0.3.0 langchain==0.3.0 pymupdf==1.24.10 qdrant-client==1.11.2 langchain_qdrant==0.1.4 langsmith==0.1.121"
      ]
    },
    {
      "cell_type": "markdown",
      "metadata": {
        "id": "qYcWLzrmHgDb"
      },
      "source": [
        "We'll need an OpenAI API Key:"
      ]
    },
    {
      "cell_type": "code",
      "execution_count": 8,
      "metadata": {
        "colab": {
          "base_uri": "https://localhost:8080/"
        },
        "id": "GZ8qfrFh_6ed",
        "outputId": "4fb1a16f-1f71-4d0a-aad4-dd0d0917abc5"
      },
      "outputs": [
        {
          "name": "stderr",
          "output_type": "stream",
          "text": [
            "INFO:__main__:.env file found at: c:\\src\\mlops\\sb-aie4\\.env\n",
            "INFO:__main__:OpenAI API key loaded successfully.\n"
          ]
        }
      ],
      "source": [
        "import os\n",
        "from dotenv import load_dotenv\n",
        "import openai\n",
        "from pathlib import Path\n",
        "import logging\n",
        "\n",
        "# Configure logging\n",
        "logging.basicConfig(level=logging.INFO)\n",
        "logger = logging.getLogger(__name__)\n",
        "\n",
        "# Get the current working directory\n",
        "current_dir = Path.cwd()\n",
        "\n",
        "# Construct the path to the .env file\n",
        "env_path = current_dir.parent.parent / '.env'\n",
        "\n",
        "# Check if the .env file exists\n",
        "if env_path.exists():\n",
        "    logger.info(f\".env file found at: {env_path}\")\n",
        "    # Load environment variables from .env file\n",
        "    load_dotenv(dotenv_path=env_path)\n",
        "else:\n",
        "    logger.error(f\".env file not found at: {env_path}\")\n",
        "\n",
        "# Retrieve the OpenAI API key from environment variables\n",
        "openai.api_key = os.getenv(\"OPENAI_API_KEY\")\n",
        "\n",
        "# Verify that the API key is set\n",
        "if openai.api_key:\n",
        "    logger.info(\"OpenAI API key loaded successfully.\")\n",
        "else:\n",
        "    logger.error(\"Failed to load OpenAI API key.\")"
      ]
    },
    {
      "cell_type": "markdown",
      "metadata": {
        "id": "piz2DUDuHiSO"
      },
      "source": [
        "And the LangSmith set-up:"
      ]
    },
    {
      "cell_type": "code",
      "execution_count": 9,
      "metadata": {
        "colab": {
          "base_uri": "https://localhost:8080/"
        },
        "id": "wLZX5zowCh-q",
        "outputId": "565c588a-a865-4b86-d5ca-986f35153000"
      },
      "outputs": [],
      "source": [
        "import uuid\n",
        "\n",
        "os.environ[\"LANGCHAIN_PROJECT\"] = f\"AIM Week 8 Assignment 1 - {uuid.uuid4().hex[0:8]}\"\n",
        "os.environ[\"LANGCHAIN_TRACING_V2\"] = \"true\"\n",
        "os.environ[\"LANGCHAIN_ENDPOINT\"] = \"https://api.smith.langchain.com\"\n"
      ]
    },
    {
      "cell_type": "markdown",
      "metadata": {
        "id": "WmwNTziKHrQm"
      },
      "source": [
        "Let's verify our project so we can leverage it in LangSmith later."
      ]
    },
    {
      "cell_type": "code",
      "execution_count": 10,
      "metadata": {
        "colab": {
          "base_uri": "https://localhost:8080/"
        },
        "id": "T6GZmkVkFcHq",
        "outputId": "f4c0fdb3-24ea-429a-fa8c-23556cb7c3ed"
      },
      "outputs": [
        {
          "name": "stdout",
          "output_type": "stream",
          "text": [
            "AIM Week 8 Assignment 1 - 748cc6f6\n"
          ]
        }
      ],
      "source": [
        "print(os.environ[\"LANGCHAIN_PROJECT\"])"
      ]
    },
    {
      "cell_type": "markdown",
      "metadata": {
        "id": "un_ppfaAHv1J"
      },
      "source": [
        "## Task 2: Setting up RAG With Production in Mind\n",
        "\n",
        "This is the most crucial step in the process - in order to take advantage of:\n",
        "\n",
        "- Asyncronous requests\n",
        "- Parallel Execution in Chains\n",
        "- And more...\n",
        "\n",
        "You must...use LCEL. These benefits are provided out of the box and largely optimized behind the scenes."
      ]
    },
    {
      "cell_type": "markdown",
      "metadata": {
        "id": "vGi-db23JMAL"
      },
      "source": [
        "### Building our RAG Components: Retriever\n",
        "\n",
        "We'll start by building some familiar components - and showcase how they automatically scale to production features."
      ]
    },
    {
      "cell_type": "markdown",
      "metadata": {
        "id": "zvbT3HSDJemE"
      },
      "source": [
        "Please upload a PDF file to use in this example!"
      ]
    },
    {
      "cell_type": "code",
      "execution_count": 4,
      "metadata": {
        "colab": {
          "base_uri": "https://localhost:8080/",
          "height": 73
        },
        "id": "dvYczNeY91Hn",
        "outputId": "c711c29b-e388-4d32-a763-f4504244eef2"
      },
      "outputs": [
        {
          "ename": "ModuleNotFoundError",
          "evalue": "No module named 'google.colab'",
          "output_type": "error",
          "traceback": [
            "\u001b[1;31m---------------------------------------------------------------------------\u001b[0m",
            "\u001b[1;31mModuleNotFoundError\u001b[0m                       Traceback (most recent call last)",
            "Cell \u001b[1;32mIn[4], line 1\u001b[0m\n\u001b[1;32m----> 1\u001b[0m \u001b[38;5;28;01mfrom\u001b[39;00m \u001b[38;5;21;01mgoogle\u001b[39;00m\u001b[38;5;21;01m.\u001b[39;00m\u001b[38;5;21;01mcolab\u001b[39;00m \u001b[38;5;28;01mimport\u001b[39;00m files\n\u001b[0;32m      2\u001b[0m uploaded \u001b[38;5;241m=\u001b[39m files\u001b[38;5;241m.\u001b[39mupload()\n",
            "\u001b[1;31mModuleNotFoundError\u001b[0m: No module named 'google.colab'"
          ]
        }
      ],
      "source": [
        "from google.colab import files\n",
        "uploaded = files.upload()"
      ]
    },
    {
      "cell_type": "code",
      "execution_count": 16,
      "metadata": {},
      "outputs": [
        {
          "name": "stdout",
          "output_type": "stream",
          "text": [
            "File found: MuskComplaint.pdf\n",
            "Number of document chunks: 119\n"
          ]
        }
      ],
      "source": [
        "# Replace the Google Colab file upload with a local file path\n",
        "file_path = \"MuskComplaint.pdf\"  # Update this with the actual path to your PDF file\n",
        "\n",
        "# Verify the file exists\n",
        "import os\n",
        "if os.path.exists(file_path):\n",
        "    print(f\"File found: {file_path}\")\n",
        "else:\n",
        "    print(f\"File not found: {file_path}\")\n",
        "    raise FileNotFoundError(f\"The file {file_path} does not exist. Please provide a valid file path.\")\n",
        "\n",
        "# Import necessary modules\n",
        "from langchain_community.document_loaders import PyMuPDFLoader\n",
        "from langchain_text_splitters import RecursiveCharacterTextSplitter\n",
        "\n",
        "# Initialize the text splitter\n",
        "text_splitter = RecursiveCharacterTextSplitter(chunk_size=1000, chunk_overlap=100)\n",
        "\n",
        "# Load and process the document\n",
        "Loader = PyMuPDFLoader\n",
        "loader = Loader(file_path)\n",
        "documents = loader.load()\n",
        "docs = text_splitter.split_documents(documents)\n",
        "for i, doc in enumerate(docs):\n",
        "    doc.metadata[\"source\"] = f\"source_{i}\"\n",
        "\n",
        "print(f\"Number of document chunks: {len(docs)}\")"
      ]
    },
    {
      "cell_type": "code",
      "execution_count": 21,
      "metadata": {},
      "outputs": [
        {
          "name": "stdout",
          "output_type": "stream",
          "text": [
            "File found: MuskComplaint.pdf\n",
            "MuskComplaint.pdf\n"
          ]
        }
      ],
      "source": [
        "# Define the file path directly\n",
        "file_path = \"MuskComplaint.pdf\"  # Update this with the actual path to your PDF file\n",
        "\n",
        "# Verify the file exists\n",
        "import os\n",
        "if os.path.exists(file_path):\n",
        "    print(f\"File found: {file_path}\")\n",
        "else:\n",
        "    print(f\"File not found: {file_path}\")\n",
        "    raise FileNotFoundError(f\"The file {file_path} does not exist. Please provide a valid file path.\")\n",
        "\n",
        "# Print the file path\n",
        "print(file_path)"
      ]
    },
    {
      "cell_type": "markdown",
      "metadata": {
        "id": "kucGy3f0Jhdi"
      },
      "source": [
        "We'll define our chunking strategy."
      ]
    },
    {
      "cell_type": "code",
      "execution_count": 22,
      "metadata": {
        "id": "G-DNvNFd8je5"
      },
      "outputs": [],
      "source": [
        "from langchain_text_splitters import RecursiveCharacterTextSplitter\n",
        "\n",
        "text_splitter = RecursiveCharacterTextSplitter(chunk_size=1000, chunk_overlap=100)"
      ]
    },
    {
      "cell_type": "markdown",
      "metadata": {
        "id": "3_zRRNcLKCZh"
      },
      "source": [
        "We'll chunk our uploaded PDF file."
      ]
    },
    {
      "cell_type": "code",
      "execution_count": 23,
      "metadata": {
        "id": "KOh6w9ud-ff6"
      },
      "outputs": [],
      "source": [
        "from langchain_community.document_loaders import PyMuPDFLoader\n",
        "\n",
        "Loader = PyMuPDFLoader\n",
        "loader = Loader(file_path)\n",
        "documents = loader.load()\n",
        "docs = text_splitter.split_documents(documents)\n",
        "for i, doc in enumerate(docs):\n",
        "    doc.metadata[\"source\"] = f\"source_{i}\""
      ]
    },
    {
      "cell_type": "markdown",
      "metadata": {
        "id": "U4XLeqJMKGdQ"
      },
      "source": [
        "#### QDrant Vector Database - Cache Backed Embeddings\n",
        "\n",
        "The process of embedding is typically a very time consuming one - we must, for ever single vector in our VDB as well as query:\n",
        "\n",
        "1. Send the text to an API endpoint (self-hosted, OpenAI, etc)\n",
        "2. Wait for processing\n",
        "3. Receive response\n",
        "\n",
        "This process costs time, and money - and occurs *every single time a document gets converted into a vector representation*.\n",
        "\n",
        "Instead, what if we:\n",
        "\n",
        "1. Set up a cache that can hold our vectors and embeddings (similar to, or in some cases literally a vector database)\n",
        "2. Send the text to an API endpoint (self-hosted, OpenAI, etc)\n",
        "3. Check the cache to see if we've already converted this text before.\n",
        "  - If we have: Return the vector representation\n",
        "  - Else: Wait for processing and proceed\n",
        "4. Store the text that was converted alongside its vector representation in a cache of some kind.\n",
        "5. Return the vector representation\n",
        "\n",
        "Notice that we can shortcut some instances of \"Wait for processing and proceed\".\n",
        "\n",
        "Let's see how this is implemented in the code."
      ]
    },
    {
      "cell_type": "code",
      "execution_count": 24,
      "metadata": {
        "id": "dzPUTCua98b2"
      },
      "outputs": [
        {
          "name": "stderr",
          "output_type": "stream",
          "text": [
            "INFO:httpx:HTTP Request: POST https://api.openai.com/v1/embeddings \"HTTP/1.1 200 OK\"\n",
            "INFO:httpx:HTTP Request: POST https://api.openai.com/v1/embeddings \"HTTP/1.1 200 OK\"\n"
          ]
        }
      ],
      "source": [
        "from qdrant_client import QdrantClient\n",
        "from qdrant_client.http.models import Distance, VectorParams\n",
        "from langchain_openai.embeddings import OpenAIEmbeddings\n",
        "from langchain.storage import LocalFileStore\n",
        "from langchain_qdrant import QdrantVectorStore\n",
        "from langchain.embeddings import CacheBackedEmbeddings\n",
        "\n",
        "# Typical Embedding Model\n",
        "core_embeddings = OpenAIEmbeddings(model=\"text-embedding-3-small\")\n",
        "\n",
        "# Typical QDrant Client Set-up\n",
        "collection_name = f\"pdf_to_parse_{uuid.uuid4()}\"\n",
        "client = QdrantClient(\":memory:\")\n",
        "client.create_collection(\n",
        "    collection_name=collection_name,\n",
        "    vectors_config=VectorParams(size=1536, distance=Distance.COSINE),\n",
        ")\n",
        "\n",
        "# Adding cache!\n",
        "store = LocalFileStore(\"./cache/\")\n",
        "cached_embedder = CacheBackedEmbeddings.from_bytes_store(\n",
        "    core_embeddings, store, namespace=core_embeddings.model\n",
        ")\n",
        "\n",
        "# Typical QDrant Vector Store Set-up\n",
        "vectorstore = QdrantVectorStore(\n",
        "    client=client,\n",
        "    collection_name=collection_name,\n",
        "    embedding=cached_embedder)\n",
        "vectorstore.add_documents(docs)\n",
        "retriever = vectorstore.as_retriever(search_type=\"mmr\", search_kwargs={\"k\": 3})"
      ]
    },
    {
      "cell_type": "markdown",
      "metadata": {
        "id": "QVZGvmNYLomp"
      },
      "source": [
        "##### ❓ Question #1:\n",
        "\n",
        "What are some limitations you can see with this approach? When is this most/least useful. Discuss with your group!\n",
        "\n",
        "### Limitations I see in this approach:\n",
        "\n",
        "1. **Memory and storage constraints:** The LocalFileStore cache and in-memory Qdrant client could consume significant resources, especially for larger datasets.\n",
        "\n",
        "2. **Lack of persistence:** Since we're using an in-memory database (\":memory:\"), all data will be lost when the process ends. This isn't ideal for long-running applications.\n",
        "\n",
        "3. **Potential for stale data:** If our underlying data or embedding model changes, the cache might become outdated, leading to inaccurate results.\n",
        "\n",
        "### When I think this is most useful:\n",
        "\n",
        "1. **Repeated queries:** This setup shines in scenarios where we're making frequent, similar queries on the same dataset. The caching really pays off here.\n",
        "\n",
        "2. **Development and testing:** During the development phase, this approach can significantly speed up our iteration cycles.\n",
        "\n",
        "3. **Cost optimization:** By reducing API calls to OpenAI for embeddings, we can potentially lower our operational costs.\n",
        "\n",
        "### When I believe this is least useful:\n",
        "\n",
        "1. **Large-scale production systems:** For very large datasets or high-concurrency environments, this single-machine, in-memory approach might not cut it.\n",
        "\n",
        "2. **Frequently changing data:** If our document set is updated often, we'd lose a lot of the caching benefits and might even risk using outdated information.\n",
        "\n",
        "3. **One-time analyses:** For scripts we only run occasionally, the overhead of setting up this caching system might not be worth the effort."
      ]
    },
    {
      "cell_type": "markdown",
      "metadata": {
        "id": "vZAOhyb3L9iD"
      },
      "source": [
        "##### 🏗️ Activity #1:\n",
        "\n",
        "Create a simple experiment that tests the cache-backed embeddings."
      ]
    },
    {
      "cell_type": "code",
      "execution_count": 25,
      "metadata": {
        "id": "M_Mekif6MDqe"
      },
      "outputs": [
        {
          "name": "stderr",
          "output_type": "stream",
          "text": [
            "INFO:httpx:HTTP Request: POST https://api.openai.com/v1/embeddings \"HTTP/1.1 200 OK\"\n"
          ]
        },
        {
          "name": "stdout",
          "output_type": "stream",
          "text": [
            "Testing with core embeddings (no cache):\n"
          ]
        },
        {
          "name": "stderr",
          "output_type": "stream",
          "text": [
            "INFO:httpx:HTTP Request: POST https://api.openai.com/v1/embeddings \"HTTP/1.1 200 OK\"\n",
            "INFO:httpx:HTTP Request: POST https://api.openai.com/v1/embeddings \"HTTP/1.1 200 OK\"\n",
            "INFO:httpx:HTTP Request: POST https://api.openai.com/v1/embeddings \"HTTP/1.1 200 OK\"\n"
          ]
        },
        {
          "name": "stdout",
          "output_type": "stream",
          "text": [
            "Time taken: 0.54 seconds\n",
            "\n",
            "Testing with cached embeddings (first run, populating cache):\n"
          ]
        },
        {
          "name": "stderr",
          "output_type": "stream",
          "text": [
            "INFO:httpx:HTTP Request: POST https://api.openai.com/v1/embeddings \"HTTP/1.1 200 OK\"\n",
            "INFO:httpx:HTTP Request: POST https://api.openai.com/v1/embeddings \"HTTP/1.1 200 OK\"\n",
            "INFO:httpx:HTTP Request: POST https://api.openai.com/v1/embeddings \"HTTP/1.1 200 OK\"\n"
          ]
        },
        {
          "name": "stdout",
          "output_type": "stream",
          "text": [
            "Time taken: 0.54 seconds\n",
            "\n",
            "Testing with cached embeddings (second run, using cache):\n"
          ]
        },
        {
          "name": "stderr",
          "output_type": "stream",
          "text": [
            "INFO:httpx:HTTP Request: POST https://api.openai.com/v1/embeddings \"HTTP/1.1 200 OK\"\n",
            "INFO:httpx:HTTP Request: POST https://api.openai.com/v1/embeddings \"HTTP/1.1 200 OK\"\n"
          ]
        },
        {
          "name": "stdout",
          "output_type": "stream",
          "text": [
            "Time taken: 0.57 seconds\n",
            "\n",
            "Speedup with cache: -5.04%\n",
            "\n",
            "Number of items in cache: 120\n",
            "First few cache keys: ['text-embedding-3-small006b0570-d38b-56d1-b4a1-c98df3d77d8f', 'text-embedding-3-small0266a3fd-f602-54ec-b850-e50b99c0e479', 'text-embedding-3-small0b435677-623e-5fee-861f-52d582aac2ae']\n"
          ]
        }
      ],
      "source": [
        "import time\n",
        "from langchain_openai import OpenAIEmbeddings\n",
        "from langchain.storage import LocalFileStore\n",
        "from langchain.embeddings import CacheBackedEmbeddings\n",
        "\n",
        "# Set up the embeddings and cache\n",
        "core_embeddings = OpenAIEmbeddings(model=\"text-embedding-3-small\")\n",
        "store = LocalFileStore(\"./cache/\")\n",
        "cached_embedder = CacheBackedEmbeddings.from_bytes_store(\n",
        "    core_embeddings, store, namespace=core_embeddings.model\n",
        ")\n",
        "\n",
        "# Test texts\n",
        "texts = [\n",
        "    \"This is a test sentence for embeddings.\",\n",
        "    \"Another unique sentence for our experiment.\",\n",
        "    \"This is a test sentence for embeddings.\",  # Repeated intentionally\n",
        "]\n",
        "\n",
        "def run_embedding_test(embedder, texts):\n",
        "    start_time = time.time()\n",
        "    for text in texts:\n",
        "        embedder.embed_query(text)\n",
        "    end_time = time.time()\n",
        "    return end_time - start_time\n",
        "\n",
        "# Run tests\n",
        "print(\"Testing with core embeddings (no cache):\")\n",
        "core_time = run_embedding_test(core_embeddings, texts)\n",
        "print(f\"Time taken: {core_time:.2f} seconds\")\n",
        "\n",
        "print(\"\\nTesting with cached embeddings (first run, populating cache):\")\n",
        "first_cache_time = run_embedding_test(cached_embedder, texts)\n",
        "print(f\"Time taken: {first_cache_time:.2f} seconds\")\n",
        "\n",
        "print(\"\\nTesting with cached embeddings (second run, using cache):\")\n",
        "second_cache_time = run_embedding_test(cached_embedder, texts)\n",
        "print(f\"Time taken: {second_cache_time:.2f} seconds\")\n",
        "\n",
        "# Calculate and print speedup\n",
        "speedup = (core_time - second_cache_time) / core_time * 100\n",
        "print(f\"\\nSpeedup with cache: {speedup:.2f}%\")\n",
        "\n",
        "# Check cache contents\n",
        "cache_keys = list(store.yield_keys())\n",
        "print(f\"\\nNumber of items in cache: {len(cache_keys)}\")\n",
        "print(\"First few cache keys:\", cache_keys[:3] if len(cache_keys) > 3 else cache_keys)"
      ]
    },
    {
      "cell_type": "markdown",
      "metadata": {
        "id": "DH0i-YovL8kZ"
      },
      "source": [
        "### Augmentation\n",
        "\n",
        "We'll create the classic RAG Prompt and create our `ChatPromptTemplates` as per usual."
      ]
    },
    {
      "cell_type": "code",
      "execution_count": 26,
      "metadata": {
        "id": "WchaoMEx9j69"
      },
      "outputs": [],
      "source": [
        "from langchain_core.prompts import ChatPromptTemplate\n",
        "\n",
        "rag_system_prompt_template = \"\"\"\\\n",
        "You are a helpful assistant that uses the provided context to answer questions. Never reference this prompt, or the existance of context.\n",
        "\"\"\"\n",
        "\n",
        "rag_message_list = [\n",
        "    {\"role\" : \"system\", \"content\" : rag_system_prompt_template},\n",
        "]\n",
        "\n",
        "rag_user_prompt_template = \"\"\"\\\n",
        "Question:\n",
        "{question}\n",
        "Context:\n",
        "{context}\n",
        "\"\"\"\n",
        "\n",
        "chat_prompt = ChatPromptTemplate.from_messages([\n",
        "    (\"system\", rag_system_prompt_template),\n",
        "    (\"human\", rag_user_prompt_template)\n",
        "])"
      ]
    },
    {
      "cell_type": "markdown",
      "metadata": {
        "id": "UQKnByVWMpiK"
      },
      "source": [
        "### Generation\n",
        "\n",
        "Like usual, we'll set-up a `ChatOpenAI` model - and we'll use the fan favourite `gpt-4o-mini` for today.\n",
        "\n",
        "However, we'll also implement...a PROMPT CACHE!\n",
        "\n",
        "In essence, this works in a very similar way to the embedding cache - if we've seen this prompt before, we just use the stored response."
      ]
    },
    {
      "cell_type": "code",
      "execution_count": 27,
      "metadata": {
        "id": "fOXKkaY7ABab"
      },
      "outputs": [],
      "source": [
        "from langchain_core.globals import set_llm_cache\n",
        "from langchain_openai import ChatOpenAI\n",
        "\n",
        "chat_model = ChatOpenAI(model=\"gpt-4o-mini\")"
      ]
    },
    {
      "cell_type": "markdown",
      "metadata": {
        "id": "mhv8IqZoM9cY"
      },
      "source": [
        "Setting up the cache can be done as follows:"
      ]
    },
    {
      "cell_type": "code",
      "execution_count": 28,
      "metadata": {
        "id": "thqam26gAyzN"
      },
      "outputs": [],
      "source": [
        "from langchain_core.caches import InMemoryCache\n",
        "\n",
        "set_llm_cache(InMemoryCache())"
      ]
    },
    {
      "cell_type": "markdown",
      "metadata": {
        "id": "CvxEovcEM_oA"
      },
      "source": [
        "##### ❓ Question #2:\n",
        "\n",
        "What are some limitations you can see with this approach? When is this most/least useful. Discuss with your group!\n",
        "\n",
        "### Limitations I see in this approach:\n",
        "\n",
        "1. **Volatility:** The InMemoryCache is not persistent. Once the program terminates, all cached data is lost. This means we'd have to rebuild the cache from scratch on each restart.\n",
        "\n",
        "2. **Memory constraints:** Since we're using an in-memory cache, we're limited by the available RAM. For applications dealing with a large number of unique queries, this could potentially lead to high memory usage or even out-of-memory errors.\n",
        "\n",
        "3. **Lack of sharing:** This cache is local to the current process. In a distributed or multi-process environment, each instance would have its own separate cache, potentially leading to redundant LLM calls across the system.\n",
        "\n",
        "### When I think this is most useful:\n",
        "\n",
        "1. **Development and testing:** During the development phase, this approach can significantly speed up our iteration cycles by reducing repeated API calls to the LLM.\n",
        "\n",
        "2. **Short-lived applications:** For scripts or applications that run for a limited time and don't need to persist data between runs, this in-memory cache can provide quick performance benefits without the overhead of setting up a more complex caching system.\n",
        "\n",
        "3. **Repetitive queries:** In scenarios where we expect many identical queries within a single session, this cache can dramatically reduce response times and API costs.\n",
        "\n",
        "### When I believe this is least useful:\n",
        "\n",
        "1. **Long-running production services:** For services that need to maintain state across restarts or have high uptime requirements, the volatility of this cache could be problematic.\n",
        "\n",
        "2. **Distributed systems:** In a distributed environment, where multiple instances of the application are running, this local cache wouldn't provide benefits across different instances.\n",
        "\n",
        "3. **Applications with highly varied inputs:** If each query to the LLM is likely to be unique, we won't get much benefit from caching, and we might just be adding unnecessary complexity and memory usage to our application."
      ]
    },
    {
      "cell_type": "markdown",
      "metadata": {
        "id": "3iCMjVYKNEeV"
      },
      "source": [
        "##### 🏗️ Activity #2:\n",
        "\n",
        "Create a simple experiment that tests the cache-backed embeddings."
      ]
    },
    {
      "cell_type": "code",
      "execution_count": 29,
      "metadata": {
        "id": "QT5GfmsHNFqP"
      },
      "outputs": [
        {
          "name": "stdout",
          "output_type": "stream",
          "text": [
            "First run (populating cache):\n"
          ]
        },
        {
          "name": "stderr",
          "output_type": "stream",
          "text": [
            "INFO:httpx:HTTP Request: POST https://api.openai.com/v1/chat/completions \"HTTP/1.1 200 OK\"\n"
          ]
        },
        {
          "name": "stdout",
          "output_type": "stream",
          "text": [
            "Prompt: What is the capital of France?\n",
            "Response: The capital of France is Paris.\n",
            "---\n"
          ]
        },
        {
          "name": "stderr",
          "output_type": "stream",
          "text": [
            "INFO:httpx:HTTP Request: POST https://api.openai.com/v1/chat/completions \"HTTP/1.1 200 OK\"\n"
          ]
        },
        {
          "name": "stdout",
          "output_type": "stream",
          "text": [
            "Prompt: Who wrote 'Romeo and Juliet'?\n",
            "Response: William Shakespeare wrote \"Romeo and Juliet\".\n",
            "---\n",
            "Prompt: What is the capital of France?\n",
            "Response: The capital of France is Paris.\n",
            "---\n"
          ]
        },
        {
          "name": "stderr",
          "output_type": "stream",
          "text": [
            "INFO:httpx:HTTP Request: POST https://api.openai.com/v1/chat/completions \"HTTP/1.1 200 OK\"\n"
          ]
        },
        {
          "name": "stdout",
          "output_type": "stream",
          "text": [
            "Prompt: What is the boiling point of water in Celsius?\n",
            "Response: The boiling point of water in Celsius is 100 degrees.\n",
            "---\n",
            "Prompt: Who wrote 'Romeo and Juliet'?\n",
            "Response: William Shakespeare wrote \"Romeo and Juliet\".\n",
            "---\n",
            "Time taken: 1.46 seconds\n",
            "\n",
            "Second run (using cache):\n",
            "Prompt: What is the capital of France?\n",
            "Response: The capital of France is Paris.\n",
            "---\n",
            "Prompt: Who wrote 'Romeo and Juliet'?\n",
            "Response: William Shakespeare wrote \"Romeo and Juliet\".\n",
            "---\n",
            "Prompt: What is the capital of France?\n",
            "Response: The capital of France is Paris.\n",
            "---\n",
            "Prompt: What is the boiling point of water in Celsius?\n",
            "Response: The boiling point of water in Celsius is 100 degrees.\n",
            "---\n",
            "Prompt: Who wrote 'Romeo and Juliet'?\n",
            "Response: William Shakespeare wrote \"Romeo and Juliet\".\n",
            "---\n",
            "Time taken: 0.00 seconds\n",
            "\n",
            "Speedup with cache: 99.93%\n",
            "\n",
            "Estimated cache hits: 2\n"
          ]
        }
      ],
      "source": [
        "import time\n",
        "from langchain_openai import ChatOpenAI\n",
        "from langchain_core.caches import InMemoryCache\n",
        "from langchain_core.globals import set_llm_cache\n",
        "\n",
        "\n",
        "\n",
        "# Initialize the ChatOpenAI model\n",
        "llm = ChatOpenAI(temperature=0)\n",
        "\n",
        "# Test prompts\n",
        "prompts = [\n",
        "    \"What is the capital of France?\",\n",
        "    \"Who wrote 'Romeo and Juliet'?\",\n",
        "    \"What is the capital of France?\",  # Repeated intentionally\n",
        "    \"What is the boiling point of water in Celsius?\",\n",
        "    \"Who wrote 'Romeo and Juliet'?\",  # Repeated intentionally\n",
        "]\n",
        "\n",
        "def run_llm_test(llm, prompts):\n",
        "    start_time = time.time()\n",
        "    for prompt in prompts:\n",
        "        response = llm.invoke(prompt)\n",
        "        print(f\"Prompt: {prompt}\")\n",
        "        print(f\"Response: {response.content}\")\n",
        "        print(\"---\")\n",
        "    end_time = time.time()\n",
        "    return end_time - start_time\n",
        "\n",
        "# Run tests\n",
        "print(\"First run (populating cache):\")\n",
        "first_run_time = run_llm_test(llm, prompts)\n",
        "print(f\"Time taken: {first_run_time:.2f} seconds\\n\")\n",
        "\n",
        "print(\"Second run (using cache):\")\n",
        "second_run_time = run_llm_test(llm, prompts)\n",
        "print(f\"Time taken: {second_run_time:.2f} seconds\\n\")\n",
        "\n",
        "# Calculate and print speedup\n",
        "speedup = (first_run_time - second_run_time) / first_run_time * 100\n",
        "print(f\"Speedup with cache: {speedup:.2f}%\")\n",
        "\n",
        "# Check cache hits (this is a bit tricky with InMemoryCache, but we can infer from time)\n",
        "cache_hits = sum(prompts.count(prompt) - 1 for prompt in set(prompts))\n",
        "print(f\"\\nEstimated cache hits: {cache_hits}\")"
      ]
    },
    {
      "cell_type": "markdown",
      "metadata": {
        "id": "zyPnNWb9NH7W"
      },
      "source": [
        "## Task 3: RAG LCEL Chain\n",
        "\n",
        "We'll also set-up our typical RAG chain using LCEL.\n",
        "\n",
        "However, this time: We'll specifically call out that the `context` and `question` halves of the first \"link\" in the chain are executed *in parallel* by default!\n",
        "\n",
        "Thanks, LCEL!"
      ]
    },
    {
      "cell_type": "code",
      "execution_count": 30,
      "metadata": {
        "id": "3JNvSsx_CEtI"
      },
      "outputs": [],
      "source": [
        "from operator import itemgetter\n",
        "from langchain_core.runnables.passthrough import RunnablePassthrough\n",
        "\n",
        "retrieval_augmented_qa_chain = (\n",
        "        {\"context\": itemgetter(\"question\") | retriever, \"question\": itemgetter(\"question\")}\n",
        "        | RunnablePassthrough.assign(context=itemgetter(\"context\"))\n",
        "        | chat_prompt | chat_model\n",
        "    )"
      ]
    },
    {
      "cell_type": "markdown",
      "metadata": {
        "id": "Sx--wVctNdGa"
      },
      "source": [
        "Let's test it out!"
      ]
    },
    {
      "cell_type": "code",
      "execution_count": 31,
      "metadata": {
        "colab": {
          "base_uri": "https://localhost:8080/"
        },
        "id": "43uQegbnDQKP",
        "outputId": "a9ff032b-4eb2-4f5f-f456-1fc6aa24aaec"
      },
      "outputs": [
        {
          "name": "stderr",
          "output_type": "stream",
          "text": [
            "INFO:httpx:HTTP Request: POST https://api.openai.com/v1/embeddings \"HTTP/1.1 200 OK\"\n",
            "INFO:httpx:HTTP Request: POST https://api.openai.com/v1/chat/completions \"HTTP/1.1 200 OK\"\n"
          ]
        },
        {
          "data": {
            "text/plain": [
              "AIMessage(content='Here are 50 things about the document \"MuskComplaint.pdf\":\\n\\n1. The document is a PDF file with a total of 46 pages.\\n2. It is formatted in PDF 1.7.\\n3. The document appears to be a legal complaint.\\n4. The source of the document is labeled as \\'source_104\\', \\'source_55\\', and \\'source_109\\'.\\n5. The document includes multiple exhibits.\\n6. Page 35 contains the content labeled as \"Exhibit 1.\"\\n7. Page 18 discusses the impact of OpenAI’s models.\\n8. The document mentions a significant model called GPT-3.\\n9. GPT-3 reportedly uses 175 billion parameters.\\n10. This parameter count is ten times that of any previous non-sparse language model.\\n11. The document references the publication of research papers by OpenAI.\\n12. The papers are intended to allow others to build on OpenAI\\'s work.\\n13. Page 37 includes a date stamp of December 8, 2015.\\n14. The document refers to an incorporator named Jonathan Levy.\\n15. Jonathan Levy is associated with a mailing address in Mountain View, CA.\\n16. The seventh point in the document states that the corporation shall not have any members.\\n17. The document includes legal language typical of corporate formation documents.\\n18. The content spans various topics, including technology and corporate structure.\\n19. It presents a narrative on the evolution of language models.\\n20. OpenAI\\'s development of models has led to the growth of communities around AI.\\n21. These communities include both open-source and commercial entities.\\n22. The document discusses advancements in AI reasoning capabilities.\\n23. Researchers at Google are mentioned for their work on chain-of-thought prompting.\\n24. The document may involve multiple stakeholders in the tech industry.\\n25. The content reflects on the collaborative nature of AI development.\\n26. It highlights the significance of research publications in tech advancement.\\n27. The creation date and modification date of the document are not specified.\\n28. The document lacks a specific title or author.\\n29. It includes a signature from Jonathan Levy as the authorized officer.\\n30. The document is likely related to the incorporation of a corporation.\\n31. It includes a page layout typical of legal documents.\\n32. Several pages are filled with numbered lines, indicating structured content.\\n33. The document outlines the roles and responsibilities in corporate formation.\\n34. It provides insights into the legal framework surrounding tech startups.\\n35. The PDF is part of a collection identified by a unique ID.\\n36. The document appears to be a compilation of various legal and technical concerns.\\n37. The text is likely aimed at stakeholders interested in AI and corporate law.\\n38. The document may include citations or references to other works.\\n39. It reflects the fast-paced evolution of AI technologies over recent years.\\n40. The mention of \"powerful models\" suggests a focus on performance in AI.\\n41. The document is likely intended for legal and corporate review.\\n42. The use of terms like \"parameters\" indicates a technical audience.\\n43. The document may serve as evidence in a legal case.\\n44. The language is formal and adheres to legal documentation standards.\\n45. The incorporation details may provide insights into the formation of technology companies.\\n46. The structure follows a typical complaint format in legal documents.\\n47. The document emphasizes collaboration in AI research and development.\\n48. There is no indication of a specific legal jurisdiction mentioned.\\n49. The content reflects ongoing discussions about AI ethics and deployment.\\n50. The document could serve as a reference for future developments in AI legislation.', additional_kwargs={'refusal': None}, response_metadata={'token_usage': {'completion_tokens': 729, 'prompt_tokens': 943, 'total_tokens': 1672, 'completion_tokens_details': {'reasoning_tokens': 0}, 'prompt_tokens_details': {'cached_tokens': 0}}, 'model_name': 'gpt-4o-mini-2024-07-18', 'system_fingerprint': 'fp_74ba47b4ac', 'finish_reason': 'stop', 'logprobs': None}, id='run-89edfdf6-fee5-42a2-93de-3bc52c1a5b92-0', usage_metadata={'input_tokens': 943, 'output_tokens': 729, 'total_tokens': 1672})"
            ]
          },
          "execution_count": 31,
          "metadata": {},
          "output_type": "execute_result"
        }
      ],
      "source": [
        "retrieval_augmented_qa_chain.invoke({\"question\" : \"Write 50 things about this document!\"})"
      ]
    },
    {
      "cell_type": "markdown",
      "metadata": {
        "id": "0tYAvHrJNecy"
      },
      "source": [
        "##### 🏗️ Activity #3:\n",
        "\n",
        "Show, through LangSmith, the different between a trace that is leveraging cache-backed embeddings and LLM calls - and one that isn't.\n",
        "\n",
        "Post screenshots in the notebook!"
      ]
    },
    {
      "attachments": {
        "image.png": {
          "image/png": "[encoded data removed]"
        }
      },
      "cell_type": "markdown",
      "metadata": {},
      "source": [
        "![image.png](attachment:image.png)"
      ]
    }
  ],
  "metadata": {
    "colab": {
      "provenance": []
    },
    "kernelspec": {
      "display_name": "Python 3",
      "name": "python3"
    },
    "language_info": {
      "codemirror_mode": {
        "name": "ipython",
        "version": 3
      },
      "file_extension": ".py",
      "mimetype": "text/x-python",
      "name": "python",
      "nbconvert_exporter": "python",
      "pygments_lexer": "ipython3",
      "version": "3.12.4"
    }
  },
  "nbformat": 4,
  "nbformat_minor": 0
}
