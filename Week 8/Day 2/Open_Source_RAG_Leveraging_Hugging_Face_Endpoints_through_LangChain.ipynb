{
  "cells": [
    {
      "cell_type": "markdown",
      "metadata": {
        "id": "lcW6UWldWUMp"
      },
      "source": [
        "# Open Source RAG - Leveraging Hugging Face Endpoints through LangChain\n",
        "\n",
        "In the following notebook we will dive into the world of Open Source models hosted on Hugging Face's [inference endpoints](https://ui.endpoints.huggingface.co/).\n",
        "\n",
        "The notebook will be broken into the following parts:\n",
        "\n",
        "- 🤝 Breakout Room #2:\n",
        "  1. Install required libraries\n",
        "  2. Set Environment Variables\n",
        "  3. Creating LangChain components powered by the endpoints\n",
        "  4. Creating a simple RAG pipeline with [LangChain v0.2.0](https://blog.langchain.dev/langchain-v02-leap-to-stability/)"
      ]
    },
    {
      "cell_type": "markdown",
      "metadata": {
        "id": "-spIWt2J3Quk"
      },
      "source": [
        "## Task 1: Install required libraries\n",
        "\n",
        "Now we've got to get our required libraries!\n",
        "\n",
        "We'll start with our `langchain` and `huggingface` dependencies.\n",
        "\n"
      ]
    },
    {
      "cell_type": "code",
      "execution_count": 2,
      "metadata": {
        "id": "EwGLnp31jXJj"
      },
      "outputs": [],
      "source": [
        "!pip install -qU langchain-huggingface langchain-community faiss-cpu"
      ]
    },
    {
      "cell_type": "markdown",
      "metadata": {
        "id": "SpZTBLwK3TIz"
      },
      "source": [
        "## Task 2: Set Environment Variables\n",
        "\n",
        "We'll need to set our `HF_TOKEN` so that we can send requests to our protected API endpoint.\n",
        "\n",
        "We'll also set-up our OpenAI API key, which we'll leverage later.\n",
        "\n"
      ]
    },
    {
      "cell_type": "code",
      "execution_count": 3,
      "metadata": {
        "colab": {
          "base_uri": "https://localhost:8080/"
        },
        "id": "NspG8I0XlFTt",
        "outputId": "edbf992c-97c0-46b1-9b69-40651a5e60d1"
      },
      "outputs": [
        {
          "name": "stderr",
          "output_type": "stream",
          "text": [
            "INFO:__main__:.env file found at: c:\\src\\mlops\\sb-aie4\\.env\n",
            "INFO:__main__:OpenAI API key loaded successfully.\n"
          ]
        }
      ],
      "source": [
        "import os\n",
        "from dotenv import load_dotenv\n",
        "import openai\n",
        "from pathlib import Path\n",
        "import logging\n",
        "\n",
        "# Configure logging\n",
        "logging.basicConfig(level=logging.INFO)\n",
        "logger = logging.getLogger(__name__)\n",
        "\n",
        "# Get the current working directory\n",
        "current_dir = Path.cwd()\n",
        "\n",
        "# Construct the path to the .env file\n",
        "env_path = current_dir.parent.parent / '.env'\n",
        "\n",
        "# Check if the .env file exists\n",
        "if env_path.exists():\n",
        "    logger.info(f\".env file found at: {env_path}\")\n",
        "    # Load environment variables from .env file\n",
        "    load_dotenv(dotenv_path=env_path)\n",
        "else:\n",
        "    logger.error(f\".env file not found at: {env_path}\")\n",
        "\n",
        "# Retrieve the OpenAI API key from environment variables\n",
        "openai.api_key = os.getenv(\"OPENAI_API_KEY\")\n",
        "\n",
        "# Verify that the API key is set\n",
        "if openai.api_key:\n",
        "    logger.info(\"OpenAI API key loaded successfully.\")\n",
        "else:\n",
        "    logger.error(\"Failed to load OpenAI API key.\")\n"
      ]
    },
    {
      "cell_type": "markdown",
      "metadata": {
        "id": "QMru14VBZAtw"
      },
      "source": [
        "## Task 3: Creating LangChain components powered by the endpoints\n",
        "\n",
        "We're going to wrap our endpoints in LangChain components in order to leverage them, thanks to LCEL, as we would any other LCEL component!"
      ]
    },
    {
      "cell_type": "markdown",
      "metadata": {
        "id": "TGooehdzcmPb"
      },
      "source": [
        "### HuggingFaceEndpoint for LLM\n",
        "\n",
        "We can use the `HuggingFaceEndpoint` found [here](https://github.com/langchain-ai/langchain/blob/master/libs/community/langchain_community/llms/huggingface_endpoint.py) to power our chain - let's look at how we would implement it."
      ]
    },
    {
      "cell_type": "code",
      "execution_count": 4,
      "metadata": {
        "id": "N7u2Tu1FsURh"
      },
      "outputs": [],
      "source": [
        "YOUR_LLM_ENDPOINT_URL = \"https://eqja61s66z7140xs.us-east-1.aws.endpoints.huggingface.cloud\""
      ]
    },
    {
      "cell_type": "code",
      "execution_count": 5,
      "metadata": {
        "colab": {
          "base_uri": "https://localhost:8080/"
        },
        "id": "L3Cz6Mrnt2ku",
        "outputId": "f23f611f-5f08-4332-a74c-5b8d8311d185"
      },
      "outputs": [
        {
          "name": "stderr",
          "output_type": "stream",
          "text": [
            "C:\\Users\\bhatsu\\AppData\\Local\\Temp\\ipykernel_35800\\1258114758.py:3: LangChainDeprecationWarning: The class `HuggingFaceEndpoint` was deprecated in LangChain 0.0.37 and will be removed in 1.0. An updated version of the class exists in the :class:`~langchain-huggingface package and should be used instead. To use it run `pip install -U :class:`~langchain-huggingface` and import as `from :class:`~langchain_huggingface import HuggingFaceEndpoint``.\n",
            "  hf_llm = HuggingFaceEndpoint(\n"
          ]
        },
        {
          "name": "stdout",
          "output_type": "stream",
          "text": [
            "The token has not been saved to the git credentials helper. Pass `add_to_git_credential=True` in this function directly or `--add-to-git-credential` if using via `huggingface-cli` if you want to set the git credential as well.\n",
            "Token is valid (permission: write).\n",
            "Your token has been saved to C:\\Users\\bhatsu\\.cache\\huggingface\\token\n",
            "Login successful\n"
          ]
        }
      ],
      "source": [
        "from langchain_community.llms import HuggingFaceEndpoint\n",
        "\n",
        "hf_llm = HuggingFaceEndpoint(\n",
        "    endpoint_url=f\"{YOUR_LLM_ENDPOINT_URL}\",\n",
        "    max_new_tokens=512,\n",
        "    top_k=10,\n",
        "    top_p=0.95,\n",
        "    typical_p=0.95,\n",
        "    temperature=0.01,\n",
        "    repetition_penalty=1.03,\n",
        "    huggingfacehub_api_token=os.environ[\"HF_TOKEN\"]\n",
        ")"
      ]
    },
    {
      "cell_type": "markdown",
      "metadata": {
        "id": "fun4XrRxZK9n"
      },
      "source": [
        "Now we can use our endpoint like we would any other LLM!"
      ]
    },
    {
      "cell_type": "code",
      "execution_count": 6,
      "metadata": {
        "colab": {
          "base_uri": "https://localhost:8080/",
          "height": 127
        },
        "id": "OFAbFT91Z8QV",
        "outputId": "588714ad-da28-4330-801b-7121b6f17ccf"
      },
      "outputs": [
        {
          "data": {
            "text/plain": [
              "\" I am doing well, thanks for asking. I have been busy with work and other things, but I always make time for my blog. Today, I want to talk about something that has been on my mind lately: the importance of self-care.\\nAs a busy professional, it's easy to get caught up in the hustle and bustle of daily life and forget to take care of ourselves. But self-care is not just a luxury, it's a necessity. When we take care of ourselves, we are better equipped to handle the stresses of life, be more productive, and live a happier, healthier life.\\nSo, what is self-care, exactly? Self-care is any activity that nourishes your mind, body, or spirit. It can be as simple as taking a warm bath, reading a book, or going for a walk. It can also be more involved, like practicing yoga, getting a massage, or cooking a healthy meal.\\nHere are some examples of self-care activities that you might find helpful:\\n* Taking a break from technology and social media\\n* Practicing mindfulness or meditation\\n* Getting enough sleep and exercise\\n* Eating a healthy, balanced diet\\n* Engaging in hobbies or creative activities\\n* Spending time with loved ones\\n* Getting a massage or other spa treatment\\n* Taking a relaxing bath or shower\\n* Reading a book or listening to music\\n* Taking a nap or getting a good night's sleep\\n\\nI know it can be hard to prioritize self-care when you're busy, but trust me, it's worth it. When you take care of yourself, you'll feel more energized, focused, and motivated. You'll be better able to handle stress and challenges, and you'll be more resilient in the face of adversity.\\n\\nSo, how can you start prioritizing self-care in your life? Here are a few tips:\\n\\n* Start small: Begin with one or two self-care activities per week and gradually add more as you become more comfortable with the practice.\\n* Schedule it in: Treat self-care as a non-negotiable part of your daily or weekly routine, just like brushing your teeth or taking a shower.\\n* Be kind to yourself: Remember that self-care is not a luxury, it's a necessity. Don't beat yourself up if you miss a day or two – just get back on track as soon as you can.\\n* Make it fun: Choose self-care activities that bring you joy and make you feel good. Whether it's reading a book, taking a walk, or practicing yoga\""
            ]
          },
          "execution_count": 6,
          "metadata": {},
          "output_type": "execute_result"
        }
      ],
      "source": [
        "hf_llm.invoke(\"Hello, how are you?\")"
      ]
    },
    {
      "cell_type": "markdown",
      "metadata": {
        "id": "ngH3fhw4aQ8T"
      },
      "source": [
        "Now we can add a RAG-style prompt using Llama 3 Instruct's prompt templating!"
      ]
    },
    {
      "cell_type": "code",
      "execution_count": 7,
      "metadata": {
        "id": "zdvv4JmkzEtj"
      },
      "outputs": [],
      "source": [
        "from langchain_core.prompts import PromptTemplate\n",
        "\n",
        "RAG_PROMPT_TEMPLATE = \"\"\"\\\n",
        "<|start_header_id|>system<|end_header_id|>\n",
        "You are a helpful assistant. You answer user questions based on provided context. If you can't answer the question with the provided context, say you don't know.<|eot_id|>\n",
        "\n",
        "<|start_header_id|>user<|end_header_id|>\n",
        "User Query:\n",
        "{query}\n",
        "\n",
        "Context:\n",
        "{context}<|eot_id|>\n",
        "\n",
        "<|start_header_id|>assistant<|end_header_id|>\n",
        "\"\"\"\n",
        "\n",
        "rag_prompt = PromptTemplate.from_template(RAG_PROMPT_TEMPLATE)"
      ]
    },
    {
      "cell_type": "markdown",
      "metadata": {
        "id": "Oe0Qrzn4adzh"
      },
      "source": [
        "Let's create a simple LCEL chain using our prompt template Runnable and our LLM Runnable."
      ]
    },
    {
      "cell_type": "code",
      "execution_count": 14,
      "metadata": {
        "id": "CE4djpxM0-Fg"
      },
      "outputs": [],
      "source": [
        "rag_chain = rag_prompt | hf_llm"
      ]
    },
    {
      "cell_type": "code",
      "execution_count": 15,
      "metadata": {
        "colab": {
          "base_uri": "https://localhost:8080/",
          "height": 36
        },
        "id": "PNwrLXqDxHDY",
        "outputId": "f6803286-1aa5-488a-eea9-8bece68da7f5"
      },
      "outputs": [
        {
          "data": {
            "text/plain": [
              "'Carl is 40 years old.'"
            ]
          },
          "execution_count": 15,
          "metadata": {},
          "output_type": "execute_result"
        }
      ],
      "source": [
        "rag_chain.invoke({\"query\" : \"Who old is Carl?\", \"context\" : \"Carl is a sweet dude, he's 40.\"})"
      ]
    },
    {
      "cell_type": "markdown",
      "metadata": {
        "id": "emGw4-66aBfa"
      },
      "source": [
        "### HuggingFaceInferenceAPIEmbeddings\n",
        "\n",
        "Now we can leverage the `HuggingFaceInferenceAPIEmbeddings` module in LangChain to connect to our Hugging Face Inference Endpoint hosted embedding model."
      ]
    },
    {
      "cell_type": "code",
      "execution_count": 16,
      "metadata": {
        "id": "n9Q7e4Gnwe_C"
      },
      "outputs": [],
      "source": [
        "from langchain_huggingface.embeddings import HuggingFaceEndpointEmbeddings\n",
        "\n",
        "YOUR_EMBED_MODEL_URL = \"https://y7nlf8p9ats9hfsv.us-east-1.aws.endpoints.huggingface.cloud\"\n",
        "\n",
        "hf_embeddings = HuggingFaceEndpointEmbeddings(\n",
        "    model=YOUR_EMBED_MODEL_URL,\n",
        "    task=\"feature-extraction\",\n",
        "    huggingfacehub_api_token=os.environ[\"HF_TOKEN\"],\n",
        ")"
      ]
    },
    {
      "cell_type": "markdown",
      "metadata": {
        "id": "YXYRBqbBayWb"
      },
      "source": [
        "Let's build a simple cosine-similarity function to verify our endpoint is working as expected."
      ]
    },
    {
      "cell_type": "code",
      "execution_count": 17,
      "metadata": {
        "id": "lOP6LKr74RG8"
      },
      "outputs": [],
      "source": [
        "import numpy as np\n",
        "from numpy.linalg import norm\n",
        "\n",
        "def cosine_similarity(phrase_1, phrase_2):\n",
        "  vec_1 = hf_embeddings.embed_documents([phrase_1])[0]\n",
        "  vec2_2 = hf_embeddings.embed_documents([phrase_2])[0]\n",
        "  return np.dot(vec_1, vec2_2) / (norm(vec_1) * norm(vec2_2))"
      ]
    },
    {
      "cell_type": "markdown",
      "metadata": {
        "id": "uGZNhxF2bVIr"
      },
      "source": [
        "Let's try a few examples below!"
      ]
    },
    {
      "cell_type": "code",
      "execution_count": 18,
      "metadata": {
        "colab": {
          "base_uri": "https://localhost:8080/"
        },
        "id": "5o_cqEZ34f15",
        "outputId": "d3eb4933-8842-4278-fe48-2dc15e430b60"
      },
      "outputs": [
        {
          "data": {
            "text/plain": [
              "0.9262298491793162"
            ]
          },
          "execution_count": 18,
          "metadata": {},
          "output_type": "execute_result"
        }
      ],
      "source": [
        "cosine_similarity(\"I love my fluffy dog!\", \"I adore this furry puppy!\")"
      ]
    },
    {
      "cell_type": "code",
      "execution_count": 19,
      "metadata": {
        "colab": {
          "base_uri": "https://localhost:8080/"
        },
        "id": "R1nsAV1n4w4a",
        "outputId": "db53d783-4c87-404f-de67-fc1d01583e68"
      },
      "outputs": [
        {
          "data": {
            "text/plain": [
              "0.8102383657415904"
            ]
          },
          "execution_count": 19,
          "metadata": {},
          "output_type": "execute_result"
        }
      ],
      "source": [
        "cosine_similarity(\"I love my fluffy dog!\", \"Eating pizza is the worst! Yuck!\")"
      ]
    },
    {
      "cell_type": "markdown",
      "metadata": {
        "id": "iiz6vKMlbbP4"
      },
      "source": [
        "## Task 4: Preparing Data!\n",
        "\n",
        "We'll start by loading some data from GitHub (Paul Graham's Essays) and then move to chunking them into manageable pieces!\n",
        "\n",
        "First - let's grab the repository where the files live."
      ]
    },
    {
      "cell_type": "code",
      "execution_count": 20,
      "metadata": {
        "colab": {
          "base_uri": "https://localhost:8080/"
        },
        "id": "AkuzZben5Eqp",
        "outputId": "eb8d39ae-fd70-4691-ddaa-1f8aa15f1c19"
      },
      "outputs": [
        {
          "name": "stderr",
          "output_type": "stream",
          "text": [
            "fatal: destination path 'paul-graham-to-kindle' already exists and is not an empty directory.\n"
          ]
        }
      ],
      "source": [
        "!git clone https://github.com/dbredvick/paul-graham-to-kindle.git"
      ]
    },
    {
      "cell_type": "markdown",
      "metadata": {
        "id": "8prMk6R0bsYd"
      },
      "source": [
        "Next - we can load them using LangChain!"
      ]
    },
    {
      "cell_type": "code",
      "execution_count": 21,
      "metadata": {
        "id": "K155zM7e53lt"
      },
      "outputs": [],
      "source": [
        "from langchain_community.document_loaders import TextLoader\n",
        "\n",
        "document_loader = TextLoader(\"./paul-graham-to-kindle/paul_graham_essays.txt\")\n",
        "documents = document_loader.load()"
      ]
    },
    {
      "cell_type": "markdown",
      "metadata": {
        "id": "5wYfo6_0bwVc"
      },
      "source": [
        "Now, let's split them into 1000 character pieces."
      ]
    },
    {
      "cell_type": "code",
      "execution_count": 22,
      "metadata": {
        "colab": {
          "base_uri": "https://localhost:8080/"
        },
        "id": "w-Gx_0iL6Ikc",
        "outputId": "4cd1de4f-8a7d-4727-dc92-0ce3d321a82f"
      },
      "outputs": [
        {
          "data": {
            "text/plain": [
              "4265"
            ]
          },
          "execution_count": 22,
          "metadata": {},
          "output_type": "execute_result"
        }
      ],
      "source": [
        "from langchain_text_splitters import RecursiveCharacterTextSplitter\n",
        "\n",
        "text_splitter = RecursiveCharacterTextSplitter(chunk_size=1000, chunk_overlap=30)\n",
        "split_documents = text_splitter.split_documents(documents)\n",
        "len(split_documents)"
      ]
    },
    {
      "cell_type": "markdown",
      "metadata": {
        "id": "d5HrkDhTb4i_"
      },
      "source": [
        "Just the same as we would with OpenAI's embeddings model - we can instantiate our `FAISS` vector store with our documents and our `HuggingFaceEmbeddings` model!\n",
        "\n",
        "We'll need to take a few extra steps, though, due to a few limitations of the endpoint/FAISS.\n",
        "\n",
        "We'll start by embeddings our documents in batches of `32`.\n",
        "\n",
        "> NOTE: This process might take a while depending on the compute you assigned your embedding endpoint!"
      ]
    },
    {
      "cell_type": "code",
      "execution_count": 23,
      "metadata": {
        "id": "ucghQgRp6YXr"
      },
      "outputs": [
        {
          "name": "stderr",
          "output_type": "stream",
          "text": [
            "INFO:faiss.loader:Loading faiss with AVX2 support.\n",
            "INFO:faiss.loader:Successfully loaded faiss with AVX2 support.\n"
          ]
        }
      ],
      "source": [
        "from langchain_community.vectorstores import FAISS\n",
        "\n",
        "for i in range(0, len(split_documents), 32):\n",
        "  if i == 0:\n",
        "    vectorstore = FAISS.from_documents(split_documents[i:i+32], hf_embeddings)\n",
        "    continue\n",
        "  vectorstore.add_documents(split_documents[i:i+32])"
      ]
    },
    {
      "cell_type": "markdown",
      "metadata": {
        "id": "q07ZUp6Db_AO"
      },
      "source": [
        "Next, we set up FAISS as a retriever."
      ]
    },
    {
      "cell_type": "code",
      "execution_count": 24,
      "metadata": {
        "id": "fXr-yrAq7h8V"
      },
      "outputs": [],
      "source": [
        "hf_retriever = vectorstore.as_retriever()"
      ]
    },
    {
      "cell_type": "markdown",
      "metadata": {
        "id": "sYrW6FRecO7U"
      },
      "source": [
        "## Task 5: Simple LCEL RAG Chain\n",
        "\n",
        "Now we can set up our LCEL RAG chain!\n",
        "\n",
        "> NOTE: We're not returning context for this example, and only returning the text output from the LLM."
      ]
    },
    {
      "cell_type": "code",
      "execution_count": 25,
      "metadata": {
        "id": "ffIzIlct8ISb"
      },
      "outputs": [],
      "source": [
        "from operator import itemgetter\n",
        "from langchain.schema.output_parser import StrOutputParser\n",
        "from langchain.schema.runnable import RunnablePassthrough\n",
        "\n",
        "lcel_rag_chain = {\"context\": itemgetter(\"query\") | hf_retriever, \"query\": itemgetter(\"query\")}| rag_prompt | hf_llm"
      ]
    },
    {
      "cell_type": "code",
      "execution_count": 26,
      "metadata": {
        "colab": {
          "base_uri": "https://localhost:8080/",
          "height": 127
        },
        "id": "HOQfkEgb8nPH",
        "outputId": "92601728-d001-43e2-e543-e714d66f4f4e"
      },
      "outputs": [
        {
          "data": {
            "text/plain": [
              "'The best part of Silicon Valley, according to Paul Graham, is its proximity to a top-notch university, specifically one of the top handful in the world. This university serves as a magnet, attracting the best people from far and wide, which is essential for creating a thriving startup ecosystem.'"
            ]
          },
          "execution_count": 26,
          "metadata": {},
          "output_type": "execute_result"
        }
      ],
      "source": [
        "lcel_rag_chain.invoke({\"query\" : \"What is the best part of Silicon Valley?\"})"
      ]
    }
  ],
  "metadata": {
    "colab": {
      "provenance": [],
      "toc_visible": true
    },
    "kernelspec": {
      "display_name": "Python 3",
      "name": "python3"
    },
    "language_info": {
      "codemirror_mode": {
        "name": "ipython",
        "version": 3
      },
      "file_extension": ".py",
      "mimetype": "text/x-python",
      "name": "python",
      "nbconvert_exporter": "python",
      "pygments_lexer": "ipython3",
      "version": "3.12.4"
    }
  },
  "nbformat": 4,
  "nbformat_minor": 0
}
