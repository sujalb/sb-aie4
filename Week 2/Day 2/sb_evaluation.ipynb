{
 "cells": [
  {
   "cell_type": "code",
   "execution_count": 1,
   "metadata": {},
   "outputs": [
    {
     "name": "stdout",
     "output_type": "stream",
     "text": [
      "Requirement already satisfied: langsmith in c:\\src\\mlops\\sb-aie4\\.conda\\lib\\site-packages (0.1.120)\n",
      "Requirement already satisfied: httpx<1,>=0.23.0 in c:\\src\\mlops\\sb-aie4\\.conda\\lib\\site-packages (from langsmith) (0.27.0)\n",
      "Requirement already satisfied: orjson<4.0.0,>=3.9.14 in c:\\src\\mlops\\sb-aie4\\.conda\\lib\\site-packages (from langsmith) (3.10.7)\n",
      "Requirement already satisfied: pydantic<3.0.0,>=2.7.4 in c:\\src\\mlops\\sb-aie4\\.conda\\lib\\site-packages (from langsmith) (2.8.2)\n",
      "Requirement already satisfied: requests<3,>=2 in c:\\src\\mlops\\sb-aie4\\.conda\\lib\\site-packages (from langsmith) (2.32.3)\n",
      "Requirement already satisfied: anyio in c:\\src\\mlops\\sb-aie4\\.conda\\lib\\site-packages (from httpx<1,>=0.23.0->langsmith) (4.2.0)\n",
      "Requirement already satisfied: certifi in c:\\src\\mlops\\sb-aie4\\.conda\\lib\\site-packages (from httpx<1,>=0.23.0->langsmith) (2024.7.4)\n",
      "Requirement already satisfied: httpcore==1.* in c:\\src\\mlops\\sb-aie4\\.conda\\lib\\site-packages (from httpx<1,>=0.23.0->langsmith) (1.0.5)\n",
      "Requirement already satisfied: idna in c:\\src\\mlops\\sb-aie4\\.conda\\lib\\site-packages (from httpx<1,>=0.23.0->langsmith) (3.7)\n",
      "Requirement already satisfied: sniffio in c:\\src\\mlops\\sb-aie4\\.conda\\lib\\site-packages (from httpx<1,>=0.23.0->langsmith) (1.3.0)\n",
      "Requirement already satisfied: h11<0.15,>=0.13 in c:\\src\\mlops\\sb-aie4\\.conda\\lib\\site-packages (from httpcore==1.*->httpx<1,>=0.23.0->langsmith) (0.14.0)\n",
      "Requirement already satisfied: annotated-types>=0.4.0 in c:\\src\\mlops\\sb-aie4\\.conda\\lib\\site-packages (from pydantic<3.0.0,>=2.7.4->langsmith) (0.7.0)\n",
      "Requirement already satisfied: pydantic-core==2.20.1 in c:\\src\\mlops\\sb-aie4\\.conda\\lib\\site-packages (from pydantic<3.0.0,>=2.7.4->langsmith) (2.20.1)\n",
      "Requirement already satisfied: typing-extensions>=4.6.1 in c:\\src\\mlops\\sb-aie4\\.conda\\lib\\site-packages (from pydantic<3.0.0,>=2.7.4->langsmith) (4.12.2)\n",
      "Requirement already satisfied: charset-normalizer<4,>=2 in c:\\src\\mlops\\sb-aie4\\.conda\\lib\\site-packages (from requests<3,>=2->langsmith) (3.3.2)\n",
      "Requirement already satisfied: urllib3<3,>=1.21.1 in c:\\src\\mlops\\sb-aie4\\.conda\\lib\\site-packages (from requests<3,>=2->langsmith) (2.2.2)\n",
      "Note: you may need to restart the kernel to use updated packages.\n"
     ]
    }
   ],
   "source": [
    "pip install -U langsmith"
   ]
  },
  {
   "cell_type": "code",
   "execution_count": 2,
   "metadata": {},
   "outputs": [
    {
     "name": "stdout",
     "output_type": "stream",
     "text": [
      "View the evaluation results for experiment: 'rap-generator-019d86e4' at:\n",
      "https://smith.langchain.com/o/bdfb057b-3c54-550b-8976-4c06e5176a04/datasets/5b269a5d-40d3-4ca7-8f26-d4bc7bdf24ef/compare?selectedSessions=92b4e49a-1cf6-4219-8067-5d7e471cddbf\n",
      "\n",
      "\n"
     ]
    },
    {
     "data": {
      "application/vnd.jupyter.widget-view+json": {
       "model_id": "134798fc91b048d5bacfd839a071c7fd",
       "version_major": 2,
       "version_minor": 0
      },
      "text/plain": [
       "0it [00:00, ?it/s]"
      ]
     },
     "metadata": {},
     "output_type": "display_data"
    },
    {
     "ename": "",
     "evalue": "",
     "output_type": "error",
     "traceback": [
      "\u001b[1;31mThe Kernel crashed while executing code in the current cell or a previous cell. \n",
      "\u001b[1;31mPlease review the code in the cell(s) to identify a possible cause of the failure. \n",
      "\u001b[1;31mClick <a href='https://aka.ms/vscodeJupyterKernelCrash'>here</a> for more info. \n",
      "\u001b[1;31mView Jupyter <a href='command:jupyter.viewOutput'>log</a> for further details."
     ]
    }
   ],
   "source": [
    "from langsmith import Client\n",
    "from langsmith.schemas import Run, Example\n",
    "from langsmith.evaluation import evaluate\n",
    "import openai\n",
    "from langsmith.wrappers import wrap_openai\n",
    "\n",
    "client = Client()\n",
    "\n",
    "# Define dataset: these are your test cases\n",
    "dataset_name = \"Rap Battle Dataset\"\n",
    "dataset = client.create_dataset(dataset_name, description=\"Rap battle prompts.\")\n",
    "client.create_examples(\n",
    "    inputs=[\n",
    "        {\"question\": \"a rap battle between Atticus Finch and Cicero\"},\n",
    "        {\"question\": \"a rap battle between Barbie and Oppenheimer\"},\n",
    "    ],\n",
    "    outputs=[\n",
    "        {\"must_mention\": [\"lawyer\", \"justice\"]},\n",
    "        {\"must_mention\": [\"plastic\", \"nuclear\"]},\n",
    "    ],\n",
    "    dataset_id=dataset.id,\n",
    ")\n",
    "\n",
    "# Define AI system\n",
    "openai_client = wrap_openai(openai.Client())\n",
    "\n",
    "def predict(inputs: dict) -> dict:\n",
    "    messages = [{\"role\": \"user\", \"content\": inputs[\"question\"]}]\n",
    "    response = openai_client.chat.completions.create(messages=messages, model=\"gpt-3.5-turbo\")\n",
    "    return {\"output\": response}\n",
    "\n",
    "# Define evaluators\n",
    "def must_mention(run: Run, example: Example) -> dict:\n",
    "    prediction = run.outputs.get(\"output\") or \"\"\n",
    "    required = example.outputs.get(\"must_mention\") or []\n",
    "    score = all(phrase in prediction for phrase in required)\n",
    "    return {\"key\":\"must_mention\", \"score\": score}\n",
    "\n",
    "experiment_results = evaluate(\n",
    "    predict, # Your AI system\n",
    "    data=dataset_name, # The data to predict and grade over\n",
    "    evaluators=[must_mention], # The evaluators to score the results\n",
    "    experiment_prefix=\"rap-generator\", # A prefix for your experiment names to easily identify them\n",
    "    metadata={\n",
    "      \"version\": \"1.0.0\",\n",
    "    },\n",
    ")"
   ]
  }
 ],
 "metadata": {
  "kernelspec": {
   "display_name": "Python 3",
   "language": "python",
   "name": "python3"
  },
  "language_info": {
   "codemirror_mode": {
    "name": "ipython",
    "version": 3
   },
   "file_extension": ".py",
   "mimetype": "text/x-python",
   "name": "python",
   "nbconvert_exporter": "python",
   "pygments_lexer": "ipython3",
   "version": "3.12.4"
  }
 },
 "nbformat": 4,
 "nbformat_minor": 2
}
